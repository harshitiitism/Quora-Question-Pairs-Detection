{
 "cells": [
  {
   "cell_type": "code",
   "execution_count": 1,
   "metadata": {},
   "outputs": [],
   "source": [
    "import numpy as np\n",
    "import pandas as pd\n",
    "import seaborn as sns\n",
    "import matplotlib.pyplot as plt"
   ]
  },
  {
   "cell_type": "code",
   "execution_count": 2,
   "metadata": {},
   "outputs": [
    {
     "data": {
      "text/plain": [
       "(404290, 6)"
      ]
     },
     "execution_count": 2,
     "metadata": {},
     "output_type": "execute_result"
    }
   ],
   "source": [
    "df = pd.read_csv(\"train.csv\")\n",
    "df.shape"
   ]
  },
  {
   "cell_type": "code",
   "execution_count": 3,
   "metadata": {},
   "outputs": [
    {
     "data": {
      "text/html": [
       "<div>\n",
       "<style scoped>\n",
       "    .dataframe tbody tr th:only-of-type {\n",
       "        vertical-align: middle;\n",
       "    }\n",
       "\n",
       "    .dataframe tbody tr th {\n",
       "        vertical-align: top;\n",
       "    }\n",
       "\n",
       "    .dataframe thead th {\n",
       "        text-align: right;\n",
       "    }\n",
       "</style>\n",
       "<table border=\"1\" class=\"dataframe\">\n",
       "  <thead>\n",
       "    <tr style=\"text-align: right;\">\n",
       "      <th></th>\n",
       "      <th>id</th>\n",
       "      <th>qid1</th>\n",
       "      <th>qid2</th>\n",
       "      <th>question1</th>\n",
       "      <th>question2</th>\n",
       "      <th>is_duplicate</th>\n",
       "    </tr>\n",
       "  </thead>\n",
       "  <tbody>\n",
       "    <tr>\n",
       "      <th>258013</th>\n",
       "      <td>258013</td>\n",
       "      <td>23593</td>\n",
       "      <td>155980</td>\n",
       "      <td>How do you log in to Facebook if you forgot yo...</td>\n",
       "      <td>How am I supposed to get back into my Facebook...</td>\n",
       "      <td>1</td>\n",
       "    </tr>\n",
       "    <tr>\n",
       "      <th>402557</th>\n",
       "      <td>402557</td>\n",
       "      <td>536044</td>\n",
       "      <td>536045</td>\n",
       "      <td>General: What is the Meaning of \"Do you have a...</td>\n",
       "      <td>Why do people consider Mark Twain the mirror o...</td>\n",
       "      <td>0</td>\n",
       "    </tr>\n",
       "    <tr>\n",
       "      <th>13454</th>\n",
       "      <td>13454</td>\n",
       "      <td>25837</td>\n",
       "      <td>25838</td>\n",
       "      <td>What does T-Mobile mean by unlimited data?</td>\n",
       "      <td>Is it possible to pay for unlimited data on a ...</td>\n",
       "      <td>0</td>\n",
       "    </tr>\n",
       "    <tr>\n",
       "      <th>74536</th>\n",
       "      <td>74536</td>\n",
       "      <td>127720</td>\n",
       "      <td>72606</td>\n",
       "      <td>Where is the most beautiful beach in the world?</td>\n",
       "      <td>Which is the most beautiful beach in the world...</td>\n",
       "      <td>1</td>\n",
       "    </tr>\n",
       "    <tr>\n",
       "      <th>123999</th>\n",
       "      <td>123999</td>\n",
       "      <td>6803</td>\n",
       "      <td>47793</td>\n",
       "      <td>How can I stop masturbating forever?</td>\n",
       "      <td>How can I stop masturbating?</td>\n",
       "      <td>1</td>\n",
       "    </tr>\n",
       "    <tr>\n",
       "      <th>110292</th>\n",
       "      <td>110292</td>\n",
       "      <td>180865</td>\n",
       "      <td>180866</td>\n",
       "      <td>What are the most important papers published i...</td>\n",
       "      <td>What are the most important papers published i...</td>\n",
       "      <td>0</td>\n",
       "    </tr>\n",
       "    <tr>\n",
       "      <th>67431</th>\n",
       "      <td>67431</td>\n",
       "      <td>83301</td>\n",
       "      <td>116692</td>\n",
       "      <td>Should the Indian education system be revamped?</td>\n",
       "      <td>Do you think the Indian educational system sho...</td>\n",
       "      <td>1</td>\n",
       "    </tr>\n",
       "    <tr>\n",
       "      <th>222479</th>\n",
       "      <td>222479</td>\n",
       "      <td>202825</td>\n",
       "      <td>330047</td>\n",
       "      <td>What music video, pre-1993, would you most wan...</td>\n",
       "      <td>What are you going to say about this video? Is...</td>\n",
       "      <td>0</td>\n",
       "    </tr>\n",
       "    <tr>\n",
       "      <th>320602</th>\n",
       "      <td>320602</td>\n",
       "      <td>446173</td>\n",
       "      <td>446174</td>\n",
       "      <td>What are some books for learning python?</td>\n",
       "      <td>What are the books to learn python PDF.?</td>\n",
       "      <td>0</td>\n",
       "    </tr>\n",
       "    <tr>\n",
       "      <th>336743</th>\n",
       "      <td>336743</td>\n",
       "      <td>394129</td>\n",
       "      <td>127894</td>\n",
       "      <td>How do I make easy money?</td>\n",
       "      <td>Which is the best way to earn easy money?</td>\n",
       "      <td>1</td>\n",
       "    </tr>\n",
       "  </tbody>\n",
       "</table>\n",
       "</div>"
      ],
      "text/plain": [
       "            id    qid1    qid2  \\\n",
       "258013  258013   23593  155980   \n",
       "402557  402557  536044  536045   \n",
       "13454    13454   25837   25838   \n",
       "74536    74536  127720   72606   \n",
       "123999  123999    6803   47793   \n",
       "110292  110292  180865  180866   \n",
       "67431    67431   83301  116692   \n",
       "222479  222479  202825  330047   \n",
       "320602  320602  446173  446174   \n",
       "336743  336743  394129  127894   \n",
       "\n",
       "                                                question1  \\\n",
       "258013  How do you log in to Facebook if you forgot yo...   \n",
       "402557  General: What is the Meaning of \"Do you have a...   \n",
       "13454          What does T-Mobile mean by unlimited data?   \n",
       "74536     Where is the most beautiful beach in the world?   \n",
       "123999               How can I stop masturbating forever?   \n",
       "110292  What are the most important papers published i...   \n",
       "67431     Should the Indian education system be revamped?   \n",
       "222479  What music video, pre-1993, would you most wan...   \n",
       "320602           What are some books for learning python?   \n",
       "336743                          How do I make easy money?   \n",
       "\n",
       "                                                question2  is_duplicate  \n",
       "258013  How am I supposed to get back into my Facebook...             1  \n",
       "402557  Why do people consider Mark Twain the mirror o...             0  \n",
       "13454   Is it possible to pay for unlimited data on a ...             0  \n",
       "74536   Which is the most beautiful beach in the world...             1  \n",
       "123999                       How can I stop masturbating?             1  \n",
       "110292  What are the most important papers published i...             0  \n",
       "67431   Do you think the Indian educational system sho...             1  \n",
       "222479  What are you going to say about this video? Is...             0  \n",
       "320602           What are the books to learn python PDF.?             0  \n",
       "336743          Which is the best way to earn easy money?             1  "
      ]
     },
     "execution_count": 3,
     "metadata": {},
     "output_type": "execute_result"
    }
   ],
   "source": [
    "df.sample(10)"
   ]
  },
  {
   "cell_type": "code",
   "execution_count": 4,
   "metadata": {},
   "outputs": [
    {
     "name": "stdout",
     "output_type": "stream",
     "text": [
      "<class 'pandas.core.frame.DataFrame'>\n",
      "RangeIndex: 404290 entries, 0 to 404289\n",
      "Data columns (total 6 columns):\n",
      " #   Column        Non-Null Count   Dtype \n",
      "---  ------        --------------   ----- \n",
      " 0   id            404290 non-null  int64 \n",
      " 1   qid1          404290 non-null  int64 \n",
      " 2   qid2          404290 non-null  int64 \n",
      " 3   question1     404289 non-null  object\n",
      " 4   question2     404288 non-null  object\n",
      " 5   is_duplicate  404290 non-null  int64 \n",
      "dtypes: int64(4), object(2)\n",
      "memory usage: 18.5+ MB\n"
     ]
    }
   ],
   "source": [
    "df.info()"
   ]
  },
  {
   "cell_type": "code",
   "execution_count": 5,
   "metadata": {},
   "outputs": [
    {
     "data": {
      "text/plain": [
       "id              0\n",
       "qid1            0\n",
       "qid2            0\n",
       "question1       1\n",
       "question2       2\n",
       "is_duplicate    0\n",
       "dtype: int64"
      ]
     },
     "execution_count": 5,
     "metadata": {},
     "output_type": "execute_result"
    }
   ],
   "source": [
    "# missing values\n",
    "df.isnull().sum()"
   ]
  },
  {
   "cell_type": "code",
   "execution_count": 6,
   "metadata": {},
   "outputs": [
    {
     "data": {
      "text/plain": [
       "0"
      ]
     },
     "execution_count": 6,
     "metadata": {},
     "output_type": "execute_result"
    }
   ],
   "source": [
    "# duplicate rows\n",
    "df.duplicated().sum()"
   ]
  },
  {
   "cell_type": "code",
   "execution_count": 7,
   "metadata": {},
   "outputs": [
    {
     "name": "stdout",
     "output_type": "stream",
     "text": [
      "0    255027\n",
      "1    149263\n",
      "Name: is_duplicate, dtype: int64\n",
      "0    63.080215\n",
      "1    36.919785\n",
      "Name: is_duplicate, dtype: float64\n"
     ]
    },
    {
     "data": {
      "text/plain": [
       "<matplotlib.axes._subplots.AxesSubplot at 0x28a88106348>"
      ]
     },
     "execution_count": 7,
     "metadata": {},
     "output_type": "execute_result"
    },
    {
     "data": {
      "image/png": "[encoded data removed]",
      "text/plain": [
       "<Figure size 432x288 with 1 Axes>"
      ]
     },
     "metadata": {
      "needs_background": "light"
     },
     "output_type": "display_data"
    }
   ],
   "source": [
    "# Distribution of duplicate and non-duplicate questions\n",
    "\n",
    "print(df['is_duplicate'].value_counts())\n",
    "print((df['is_duplicate'].value_counts()/df['is_duplicate'].count())*100)\n",
    "df['is_duplicate'].value_counts().plot(kind='bar')"
   ]
  },
  {
   "cell_type": "code",
   "execution_count": 8,
   "metadata": {},
   "outputs": [
    {
     "name": "stdout",
     "output_type": "stream",
     "text": [
      "Number of unique questions 537933\n",
      "Number of questions getting repeated 111780\n"
     ]
    }
   ],
   "source": [
    "# Repeated questions\n",
    "\n",
    "qid = pd.Series(df['qid1'].tolist() + df['qid2'].tolist())\n",
    "print('Number of unique questions',np.unique(qid).shape[0])\n",
    "x = qid.value_counts()>1\n",
    "print('Number of questions getting repeated',x[x].shape[0])"
   ]
  },
  {
   "cell_type": "code",
   "execution_count": 9,
   "metadata": {},
   "outputs": [
    {
     "data": {
      "image/png": "[encoded data removed]",
      "text/plain": [
       "<Figure size 432x288 with 1 Axes>"
      ]
     },
     "metadata": {
      "needs_background": "light"
     },
     "output_type": "display_data"
    }
   ],
   "source": [
    "# Repeated questions histogram\n",
    "\n",
    "plt.hist(qid.value_counts().values,bins=160)\n",
    "plt.yscale('log')\n",
    "plt.show()"
   ]
  },
  {
   "cell_type": "code",
   "execution_count": null,
   "metadata": {},
   "outputs": [],
   "source": []
  }
 ],
 "metadata": {
  "kernelspec": {
   "display_name": "Python 3",
   "language": "python",
   "name": "python3"
  },
  "language_info": {
   "codemirror_mode": {
    "name": "ipython",
    "version": 3
   },
   "file_extension": ".py",
   "mimetype": "text/x-python",
   "name": "python",
   "nbconvert_exporter": "python",
   "pygments_lexer": "ipython3",
   "version": "3.7.6"
  }
 },
 "nbformat": 4,
 "nbformat_minor": 5
}
